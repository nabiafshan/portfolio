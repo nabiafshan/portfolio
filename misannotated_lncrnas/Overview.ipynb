{
 "cells": [
  {
   "cell_type": "markdown",
   "metadata": {},
   "source": [
    "# Identifying misannotated lncRNAs\n",
    "\n",
    "The aim of this overview is to explain this work as simply as possible.\n",
    "\n",
    "For more biological and technical details, check out the [paper in Bioinformatics](https://academic.oup.com/bioinformatics/article/39/1/btac821/6960922)!"
   ]
  },
  {
   "cell_type": "markdown",
   "metadata": {},
   "source": [
    "### Alright! What's the problem we're looking at?\n",
    "\n",
    "* Long non-coding RNAs (lncRNAs) are defined as non-coding (i.e. don't code for proteins) RNAs greater than 200 nucleotides in length.\n",
    "* However, recently it was discovered that some open-reading frames within lncRNAs *can* be translated into small proteins (micropeptides).\n",
    "* Such lncRNAs are called `misannotated lncRNAs` and we want to identify them."
   ]
  },
  {
   "cell_type": "markdown",
   "metadata": {},
   "source": [
    "### What are the issues with identifying these `misannotated lncRNAs`?\n",
    "* Experimental methods:\n",
    "  * Expensive!\n",
    "  * Time-consuming!\n",
    "  * Cell specific. Need to do a very comprehensive search!\n",
    "  * Differences across species?\n",
    "* Computational methods:\n",
    "  * Coding/Non-Coding classifiers: Normal prediction methods are hamstrung because we don't know which lncRNAs are misannotated i.e. training datasets have wrong labels.\n",
    "\n",
    "\n",
    "So there are 2 main problems:\n",
    "* A method able to identify `misannotated lncRNAs` by sequence alone would be amazing!\n",
    "  * It would save time, experimental costs, while being independent of cell-type and species.\n",
    "  * If we could generate a list of possible candidate `misannotated lncRNAs`, experimental validation would be a lot more directed.\n",
    "* Current labels of lncRNAs are wrong. Therefore, a prediction method that doesn't rely completely on labels would be ideal.\n",
    "  \n",
    "Our method addresses these problems by relying on *training dynamics of deep learning methods* to solve the problem of identifying `misannotated lncRNAs`."
   ]
  },
  {
   "cell_type": "markdown",
   "metadata": {},
   "source": [
    "### So, what are training dynamics?\n",
    "* Relying on training dynamics of deep learning models means that:\n",
    "  * At the end of every training epoch, we have the model make coding/non-coding predictions for the sequences in our test set. We save these predictions.\n",
    "  * Finally, we take the mean and standard deviation of coding/non-coding predictions over all epochs.\n",
    "* What we're looking for is sequences with these 2 characteristics:\n",
    "  1. labeled non-coding in the dataset (i.e. ground truth is non-coding)\n",
    "  2. consistently classified as coding across epochs.\n",
    "\n",
    "The following figure demonstrates this idea:\n",
    "* Estimated coding probability across all training epochs shown for five example RNAs for the LSTM model.\n",
    "* We expect coding and non-coding RNAs to have high and low coding probabilities respectively; this is the case for examples A and E.\n",
    "* We are interested in lncRNAs—like B (ENST00000447563)—which have consistently high estimated coding probability, despite having the ground truth-label ‘Non-coding’.\n",
    "* C and D show examples of ambiguous samples, i.e. they show a large change in estimated coding probabilities as model training progresses, so we are not sure whether they are mislabeled or not.\n",
    "\n",
    "<img src=\"images/image1.png\" alt=\"drawing\" width=\"400\"/>\n",
    "\n",
    "\n",
    "Here's a training dynamics summary overview plot showing what this looks like for the complete dataset:\n",
    "\n",
    "* Each blue dot is an RNA with ground truth label coding. The orange dots are RNAs with ground truth label non-coding.\n",
    "* y-axis is the average of ground-truth label predictions across all epochs.\n",
    "* x-axis is the standard deviation of the ground-truth label predictions across all epochs.\n",
    "* lncRNAs in the *hard-to-learn* region of the following figure are considered candidate misannotated lncRNAs.\n",
    "  * Why?-- These samples have a low mean and standard deviation for the predicted probability of the ground-truth (i.e. non-coding) class overall training epochs.\n",
    "  * In other words, RNAs that fall in this region are consistently classified into the non-ground-truth (i.e. coding) class. \n",
    "\n",
    "<img src=\"images/image2.png\" alt=\"drawing\" width=\"600\"/>"
   ]
  },
  {
   "cell_type": "markdown",
   "metadata": {},
   "source": [
    "### Uh, does this training dynamics stuff really work when a large number of sequences might be mislabelled?\n",
    "\n",
    "Yes it does!\n",
    "\n",
    "We designed a computational experiment where we intentionally mislabel (i.e. flip ground-truth labels of coding to non-coding and vice versa) a part of the dataset.\n",
    "\n",
    "After flipping the labels, we retrain the model and examine the training dynamics again.\n",
    "\n",
    "Here's what it looks like:\n",
    "\n",
    "* We sampled 5% of the data with mean (ground truth) >= 0.8 and std (ground truth) <= 0.2.\n",
    "* These are samples for which we have medium-high confidence that the ground truth labels are correct (before).\n",
    "* After we flip the labels (coding RNAs become non-coding RNAs and vice-versa), the samples move into the *hard-to-classify* region of the training dynamics summary plot.\n",
    "\n",
    "<img src=\"images/image3.png\" alt=\"drawing\" width=\"400\"/>\n"
   ]
  },
  {
   "cell_type": "markdown",
   "metadata": {},
   "source": [
    "### Ok, so this computational method works. But how well do the results agree with exisiting experimental results?\n",
    "\n",
    "We complied data from 4 experimental sources and found a statistically significant overlap in all cases:\n",
    "1. cncRNAdb—a manually curated resource of experimentally verified coding ncRNAs\n",
    "2.  Ribo-Seq data-based methods used to find misannotated lncRNAs:\n",
    "    1.  FLOSS\n",
    "    2.  ORFScore\n",
    "    3.  PhyloP\n",
    "\n",
    "\n",
    "<img src=\"images/image4.png\" alt=\"drawing\" width=\"200\"/>\n",
    "\n",
    "<img src=\"images/image5.png\" alt=\"drawing\" width=\"800\"/>"
   ]
  },
  {
   "cell_type": "markdown",
   "metadata": {},
   "source": [
    "### Hmm, this is useful! What's the best way to use this data?\n",
    "\n",
    "The best way to find a *really* high-confidence candidate misannotated lncRNA (e.g. for experimental validation) is to aggregate data from many sources!\n",
    "\n",
    "To demonstrate how, we compiled 6 other types of data for a few misannotated lncRNAs we identified:\n",
    "1. Ribo-Seq identifies RNAs associated with ribosomes, which are likely to be translated. *Ribo-Seq P-values* (a combined score from FLOSS, ORFScore and PhyloP) show the likelihood of the identified RNA being a true-positive.\n",
    "2. *PeptideShaker* analyzes publicly available mass-spectrometry data and provides a confidence score for each peptide.\n",
    "3. The *Top BLAST Hit* is the top hit from running the query in BLASTx.\n",
    "4. The *Top hmmer Hit* is the hmmer hit with the most significant E-value obtained by running hmmscan on the Pfam profile database that looks for known domains.\n",
    "5. *CNIT, CPC2, CPAT and RNASamba* are tools for the coding potential prediction of a given RNA.\n",
    "\n",
    "<img src=\"images/image6.png\" alt=\"drawing\" width=\"800\"/>\n",
    "\n",
    "6. *Alphafold2* provides folding predictions and confidence for given ORFs.\n",
    "\n",
    "<img src=\"images/image7.png\" alt=\"drawing\" width=\"800\"/>\n"
   ]
  },
  {
   "cell_type": "markdown",
   "metadata": {},
   "source": [
    "### And that's a wrap!\n",
    "\n",
    "For more nitty-gritty details, checkout the [Bioinformatics](https://academic.oup.com/bioinformatics/article/39/1/btac821/6960922) paper!"
   ]
  }
 ],
 "metadata": {
  "language_info": {
   "name": "python"
  }
 },
 "nbformat": 4,
 "nbformat_minor": 2
}
